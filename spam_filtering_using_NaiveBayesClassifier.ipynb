{
 "cells": [
  {
   "cell_type": "code",
   "execution_count": 70,
   "metadata": {},
   "outputs": [],
   "source": [
    "#necessary imports\n",
    "import os\n",
    "import io\n",
    "import numpy\n",
    "from pandas import DataFrame\n",
    "from sklearn.feature_extraction.text import CountVectorizer #, ENGLISH_STOP_WORDS\n",
    "from sklearn.naive_bayes import MultinomialNB"
   ]
  },
  {
   "cell_type": "code",
   "execution_count": 78,
   "metadata": {},
   "outputs": [
    {
     "data": {
      "text/plain": [
       "'This function iterates every file in a directory, \\nreads it,skips the headlines and lists only the email body. \\nSo this function gives me both full path of each email file and email or message body.'"
      ]
     },
     "execution_count": 78,
     "metadata": {},
     "output_type": "execute_result"
    }
   ],
   "source": [
    "def readFiles(path):\n",
    "    for root, dirnames, filenames in os.walk(path): #os.walk(path)function finds all the files in a directory\n",
    "        for filename in filenames:\n",
    "            path = os.path.join(root, filename) #builds up full pathname for each file in the directory \n",
    "            \n",
    "            #inBody = False\n",
    "            inBody = True\n",
    "            lines = []\n",
    "            f = io.open(path, 'r', encoding='latin-1') #then reads it\n",
    "            for line in f:  #this for block makes sure to skip the headlines for each email\n",
    "                if inBody:\n",
    "                    lines.append(line)\n",
    "                elif line == '\\n': \n",
    "                    inbody = True\n",
    "                '''we're looking for 1st blank space, \n",
    "                we know after the blank space-it's the original mail or message body, \n",
    "                and before that everything is a bunch of header,which I dont want to train my spam classifier on.\n",
    "                so condition is given in elif'''\n",
    "            f.close()\n",
    "            message = \"\\n\".join(lines)\n",
    "            yield path, message\n",
    "'''This function iterates every file in a directory, \n",
    "reads it,skips the headlines and lists only the email body. \n",
    "So this function gives me both full path of each email file and email or message body.''' "
   ]
  },
  {
   "cell_type": "code",
   "execution_count": 83,
   "metadata": {},
   "outputs": [
    {
     "name": "stderr",
     "output_type": "stream",
     "text": [
      "/home/pritom/anaconda3/lib/python3.6/site-packages/pandas/core/frame.py:6201: FutureWarning: Sorting because non-concatenation axis is not aligned. A future version\n",
      "of pandas will change to not sort by default.\n",
      "\n",
      "To accept the future behavior, pass 'sort=True'.\n",
      "\n",
      "To retain the current behavior and silence the warning, pass sort=False\n",
      "\n",
      "  sort=sort)\n"
     ]
    }
   ],
   "source": [
    "def DataFrameFromDirectory(path, classification):\n",
    "    rows = []\n",
    "    index = []\n",
    "    for filename, message in readFiles(path):\n",
    "        rows.append({'message':message, 'class':classification})\n",
    "        index.append(filename)\n",
    "    return DataFrame(rows, index=index)\n",
    "# this function says I have a path to a directory and it has already been given a classification as spam or not spam.\n",
    "\n",
    "data = DataFrame({\"message\":[], \"class\":[]}) #creates a mini database consisted of message and class columns\n",
    "data = data.append(DataFrameFromDirectory('/home/pritom/Desktop/ML datasets/spam or ham email datasets/emails/spam', 'spam'))\n",
    "data = data.append(DataFrameFromDirectory('/home/pritom/Desktop/ML datasets/spam or ham email datasets/emails/ham', 'not spam'))"
   ]
  },
  {
   "cell_type": "code",
   "execution_count": 84,
   "metadata": {},
   "outputs": [
    {
     "data": {
      "text/html": [
       "<div>\n",
       "<style scoped>\n",
       "    .dataframe tbody tr th:only-of-type {\n",
       "        vertical-align: middle;\n",
       "    }\n",
       "\n",
       "    .dataframe tbody tr th {\n",
       "        vertical-align: top;\n",
       "    }\n",
       "\n",
       "    .dataframe thead th {\n",
       "        text-align: right;\n",
       "    }\n",
       "</style>\n",
       "<table border=\"1\" class=\"dataframe\">\n",
       "  <thead>\n",
       "    <tr style=\"text-align: right;\">\n",
       "      <th></th>\n",
       "      <th>class</th>\n",
       "      <th>message</th>\n",
       "    </tr>\n",
       "  </thead>\n",
       "  <tbody>\n",
       "    <tr>\n",
       "      <th>/home/pritom/Desktop/ML datasets/spam or ham email datasets/emails/spam/00195.0a543c2780491168160570bb6708af86</th>\n",
       "      <td>spam</td>\n",
       "      <td>From dz524878@caramail.com  Mon Sep  2 16:27:2...</td>\n",
       "    </tr>\n",
       "    <tr>\n",
       "      <th>/home/pritom/Desktop/ML datasets/spam or ham email datasets/emails/spam/00488.29e96da757cc5566c848833e26abdd65</th>\n",
       "      <td>spam</td>\n",
       "      <td>From beautyinfufuxxxmeb13mxy@aol.com  Tue Oct ...</td>\n",
       "    </tr>\n",
       "    <tr>\n",
       "      <th>/home/pritom/Desktop/ML datasets/spam or ham email datasets/emails/spam/00467.5b733c506b7165424a0d4a298e67970f</th>\n",
       "      <td>spam</td>\n",
       "      <td>From InkjetDeals@acsmsupplies.com  Thu Sep 26 ...</td>\n",
       "    </tr>\n",
       "    <tr>\n",
       "      <th>/home/pritom/Desktop/ML datasets/spam or ham email datasets/emails/spam/00332.580b62752adefb845db173e375271cb5</th>\n",
       "      <td>spam</td>\n",
       "      <td>Return-Path: ler@lerami.lerctr.org\\n\\nDelivery...</td>\n",
       "    </tr>\n",
       "    <tr>\n",
       "      <th>/home/pritom/Desktop/ML datasets/spam or ham email datasets/emails/spam/00257.5c8ef87f8b11d2515df71a7fe46a70b6</th>\n",
       "      <td>spam</td>\n",
       "      <td>Return-Path: ler@lerami.lerctr.org\\n\\nDelivery...</td>\n",
       "    </tr>\n",
       "  </tbody>\n",
       "</table>\n",
       "</div>"
      ],
      "text/plain": [
       "                                                   class  \\\n",
       "/home/pritom/Desktop/ML datasets/spam or ham em...  spam   \n",
       "/home/pritom/Desktop/ML datasets/spam or ham em...  spam   \n",
       "/home/pritom/Desktop/ML datasets/spam or ham em...  spam   \n",
       "/home/pritom/Desktop/ML datasets/spam or ham em...  spam   \n",
       "/home/pritom/Desktop/ML datasets/spam or ham em...  spam   \n",
       "\n",
       "                                                                                              message  \n",
       "/home/pritom/Desktop/ML datasets/spam or ham em...  From dz524878@caramail.com  Mon Sep  2 16:27:2...  \n",
       "/home/pritom/Desktop/ML datasets/spam or ham em...  From beautyinfufuxxxmeb13mxy@aol.com  Tue Oct ...  \n",
       "/home/pritom/Desktop/ML datasets/spam or ham em...  From InkjetDeals@acsmsupplies.com  Thu Sep 26 ...  \n",
       "/home/pritom/Desktop/ML datasets/spam or ham em...  Return-Path: ler@lerami.lerctr.org\\n\\nDelivery...  \n",
       "/home/pritom/Desktop/ML datasets/spam or ham em...  Return-Path: ler@lerami.lerctr.org\\n\\nDelivery...  "
      ]
     },
     "execution_count": 84,
     "metadata": {},
     "output_type": "execute_result"
    }
   ],
   "source": [
    "data.head() #pandas head function, shows first 5 lines of data\n",
    "#data.head(n) #pandas head function, shows first n lines of data"
   ]
  },
  {
   "cell_type": "code",
   "execution_count": 85,
   "metadata": {},
   "outputs": [
    {
     "data": {
      "text/plain": [
       "MultinomialNB(alpha=1.0, class_prior=None, fit_prior=True)"
      ]
     },
     "execution_count": 85,
     "metadata": {},
     "output_type": "execute_result"
    }
   ],
   "source": [
    "vectorizer = CountVectorizer() #stop_words=None, input=file\n",
    "counts = vectorizer.fit_transform(data['message'].values)\n",
    "\n",
    "classifier = MultinomialNB() #model\n",
    "targets = data[\"class\"].values\n",
    "classifier.fit(counts, targets) #model fitting"
   ]
  },
  {
   "cell_type": "code",
   "execution_count": 86,
   "metadata": {},
   "outputs": [
    {
     "data": {
      "text/plain": [
       "array(['spam', 'not spam'], dtype='<U8')"
      ]
     },
     "execution_count": 86,
     "metadata": {},
     "output_type": "execute_result"
    }
   ],
   "source": [
    "examples = [\"Free viagra now!!\", \"Hi miha, how about a practise tomorrow?\"]\n",
    "examples_counts = vectorizer.transform(examples) #words are positioned in an array/list by their occurance and frequency\n",
    "predictions = classifier.predict(examples_counts)\n",
    "predictions"
   ]
  },
  {
   "cell_type": "code",
   "execution_count": null,
   "metadata": {},
   "outputs": [],
   "source": []
  }
 ],
 "metadata": {
  "kernelspec": {
   "display_name": "Python 3",
   "language": "python",
   "name": "python3"
  },
  "language_info": {
   "codemirror_mode": {
    "name": "ipython",
    "version": 3
   },
   "file_extension": ".py",
   "mimetype": "text/x-python",
   "name": "python",
   "nbconvert_exporter": "python",
   "pygments_lexer": "ipython3",
   "version": "3.6.5"
  }
 },
 "nbformat": 4,
 "nbformat_minor": 2
}
